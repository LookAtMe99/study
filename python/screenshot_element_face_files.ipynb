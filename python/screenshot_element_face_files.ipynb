{
 "cells": [
  {
   "cell_type": "code",
   "execution_count": 1,
   "metadata": {},
   "outputs": [],
   "source": [
    "from selenium import webdriver\n",
    "import base64, pickle, time, os\n",
    "from IPython.display import Image\n",
    "from IPython.display import display\n",
    "from PIL import Image as pil\n",
    "from selenium.webdriver.chrome.options import Options"
   ]
  },
  {
   "cell_type": "markdown",
   "metadata": {},
   "source": [
    "### 1. Get Youtube Images"
   ]
  },
  {
   "cell_type": "markdown",
   "metadata": {},
   "source": [
    "##### (1) Get Youtube Driver & Save Element Screen"
   ]
  },
  {
   "cell_type": "code",
   "execution_count": 38,
   "metadata": {},
   "outputs": [],
   "source": [
    "def getDriver(youtube_url):\n",
    "    # size를 정의하지 않으면 chrome이 현재 화면의 반 정도의 size로 실행되고 그 상태에서의 좌표는 실제 youtube movie player 화면과 다름\n",
    "    # 자신의 해상도에 맞게 size를 정의한다 \n",
    "    chrome_options = Options()\n",
    "    chrome_options.add_argument(\"--window-size=1920,1080\")\n",
    "    driver = webdriver.Chrome(chrome_options=chrome_options)\n",
    "    driver.get(youtube_url)\n",
    "    return driver\n",
    "\n",
    "def saveScreen(driver, filename):\n",
    "    element = driver.find_element_by_css_selector('#movie_player')\n",
    "    location = element.location\n",
    "    size = element.size\n",
    "    driver.save_screenshot('data/images/screenshot.png')\n",
    "    im = pil.open('data/images/screenshot.png')\n",
    "    \n",
    "    left = location['x']\n",
    "    top = location['y']\n",
    "    right = left + size['width']\n",
    "    bottom = top + size['height']\n",
    "\n",
    "    # left, top, right, bottom\n",
    "    im = im.crop((left, top, right, bottom)) \n",
    "    im.save(filename) "
   ]
  },
  {
   "cell_type": "markdown",
   "metadata": {},
   "source": [
    "##### (2) Check Element"
   ]
  },
  {
   "cell_type": "code",
   "execution_count": 15,
   "metadata": {},
   "outputs": [],
   "source": [
    "def checkElement(driver, selector):\n",
    "    result = True\n",
    "    try:\n",
    "        driver.find_element_by_css_selector(selector)\n",
    "    except:\n",
    "        result = False\n",
    "    return result"
   ]
  },
  {
   "cell_type": "markdown",
   "metadata": {},
   "source": [
    "##### (3) Skip Ad"
   ]
  },
  {
   "cell_type": "code",
   "execution_count": 16,
   "metadata": {},
   "outputs": [],
   "source": [
    "skipAd_selector = \".videoAdUiSkipButton.videoAdUiAction.videoAdUiFixedPaddingSkipButton\"\n",
    "closeAd_selector = \".close-padding .close-button\"\n",
    "\n",
    "def skipAd(driver):\n",
    "    if checkElement(driver, skipAd_selector):\n",
    "        driver.find_element_by_css_selector(skipAd_selector).click()\n",
    "    \n",
    "def closeAd(driver):\n",
    "    if checkElement(driver, closeAd_selector):\n",
    "        driver.find_element_by_css_selector(closeAd_selector).click()"
   ]
  },
  {
   "cell_type": "markdown",
   "metadata": {},
   "source": [
    "##### (4) Make Directory"
   ]
  },
  {
   "cell_type": "code",
   "execution_count": 17,
   "metadata": {},
   "outputs": [],
   "source": [
    "def makeDir(youtube_url):\n",
    "    dirList = os.listdir(\"data/images/\")\n",
    "    dirName = youtube_url.split(\"v=\")[1]\n",
    "    isDir = True\n",
    "    if dirName not in dirList:\n",
    "        os.makedirs(\"data/images/\" + dirName)\n",
    "        isDir = False\n",
    "    return isDir, dirName"
   ]
  },
  {
   "cell_type": "markdown",
   "metadata": {},
   "source": [
    "### 2. Google Vision API"
   ]
  },
  {
   "cell_type": "code",
   "execution_count": 18,
   "metadata": {},
   "outputs": [],
   "source": [
    "# single thread\n",
    "def vision(filenames):\n",
    "    url = 'https://cloud.google.com/vision/'\n",
    "\n",
    "    # open site\n",
    "    driver =  webdriver.Chrome()\n",
    "    driver.get(url)\n",
    "\n",
    "    # enter iframe\n",
    "    iframe = driver.find_element_by_css_selector(\"#vision_demo_section iframe\")\n",
    "    driver.switch_to_frame(iframe)\n",
    "    \n",
    "    result = []\n",
    "    \n",
    "    for filename in filenames:\n",
    "    \n",
    "        # file upload\n",
    "        driver.find_element_by_id(\"input\").send_keys(filename)\n",
    "\n",
    "        # check done analytics\n",
    "        delay = 0\n",
    "        for _ in range(10):\n",
    "            if driver.find_element_by_css_selector(\"#results\").text != '':\n",
    "                break\n",
    "            time.sleep(1)\n",
    "            delay += 1\n",
    "        # print(\"Analytics Delay Time : {} sec\".format(delay))\n",
    "        \n",
    "        if delay >= 10:\n",
    "            continue\n",
    "        \n",
    "        # check face\n",
    "\n",
    "        isFace = True\n",
    "        time.sleep(1)\n",
    "        try:\n",
    "            driver.find_element_by_css_selector('.face.style-scope.vs-faces')\n",
    "        except:\n",
    "            isFace = False\n",
    "\n",
    "        face_data_list = []\n",
    "\n",
    "        if isFace:\n",
    "            face_list = driver.find_elements_by_css_selector('.face.style-scope.vs-faces')\n",
    "            for idx, face in enumerate(face_list):\n",
    "                faceData = {\n",
    "                    \"name\":\"face \" + str(idx+1),\n",
    "                    \"confidence\": face.find_element_by_css_selector('.confidence .conf-score.style-scope.vs-faces').text\n",
    "                }          \n",
    "                expressions = face.find_elements_by_css_selector('.type-row.style-scope.vs-faces')\n",
    "                expressionData = {}\n",
    "                for expression in expressions:\n",
    "                    name = expression.find_element_by_css_selector('#label').text\n",
    "                    state = expression.find_element_by_css_selector('#text').text\n",
    "                    if \"Likely\" in state or \"Possible\" in state or \"Very Likely\" in state:\n",
    "                        state = 1\n",
    "                    else:\n",
    "                        state = 0\n",
    "                    expressionData[name] = state\n",
    "                faceData[\"expressions\"] = expressionData\n",
    "                face_data_list.append(faceData)  \n",
    "                \n",
    "        result.append(face_data_list)    \n",
    "        \n",
    "        # close image\n",
    "        driver.find_element_by_css_selector(\"#exit\").click()\n",
    "    driver.close()\n",
    "    return result"
   ]
  },
  {
   "cell_type": "code",
   "execution_count": 19,
   "metadata": {},
   "outputs": [],
   "source": [
    "def saveImages(youtube_url, start_term, image_count, save_term, dirName):\n",
    "    \n",
    "    # open driver\n",
    "    driver = getDriver(youtube_url)\n",
    "\n",
    "    # skip ad\n",
    "    time.sleep(6)\n",
    "    skipAd(driver)\n",
    "    time.sleep(6)\n",
    "    closeAd(driver)\n",
    "\n",
    "    # save images\n",
    "    time.sleep(start_term)\n",
    "    for idx in range(1, image_count+1):\n",
    "        saveScreen(driver, 'data/images/' + dirName + '/screenshot' + str(idx) + '.png')\n",
    "        time.sleep(save_term)\n",
    "        print('saved : screenshot' + str(idx) + '.png')\n",
    "    # close driver\n",
    "    driver.close()"
   ]
  },
  {
   "cell_type": "code",
   "execution_count": 20,
   "metadata": {},
   "outputs": [],
   "source": [
    "def makeTunmnail(image_count, dirName):\n",
    "# make image list\n",
    "    filenames = []\n",
    "    for idx in range(1, image_count + 1):\n",
    "        filename = 'D:/101. source/study/python/data/images/' + dirName  + '/screenshot' + str(idx) + '.png'\n",
    "        filenames.append(filename)\n",
    "\n",
    "    # make thumnail\n",
    "    size = (512, 512)\n",
    "    thumnails = []\n",
    "    for filename in filenames:\n",
    "        im = pil.open(filename)\n",
    "        im.thumbnail(size)\n",
    "        savename = filename.split(\"/\")\n",
    "        savename[len(savename)-1] = savename[len(savename)-1].replace(\".png\",\"_thumbnail.png\")\n",
    "        savename = \"/\".join(savename)\n",
    "        im.save(savename, \"png\")\n",
    "        thumnails.append(savename)\n",
    "        \n",
    "    return thumnails"
   ]
  },
  {
   "cell_type": "code",
   "execution_count": 39,
   "metadata": {},
   "outputs": [],
   "source": [
    "youtube_url = \"https://www.youtube.com/watch?v=xyq2T_K6DHg&start=110\" # 이미지 생성 youtube URL \n",
    "#youtube_url = \"https://www.youtube.com/watch?v=gQ99oQrvIf4\"\n",
    "#youtube_url = \"https://www.youtube.com/watch?v=vj_mEaRez-E\"\n",
    "\n",
    "# 뿜뿜 \n",
    "#youtube_url = \"https://www.youtube.com/watch?v=hLv5MBuSYDY&start=60\"\n",
    "#youtube_url = \"https://www.youtube.com/watch?v=hLv5MBuSYDY\""
   ]
  },
  {
   "cell_type": "code",
   "execution_count": 40,
   "metadata": {},
   "outputs": [
    {
     "name": "stdout",
     "output_type": "stream",
     "text": [
      "saved : screenshot1.png\n",
      "saved : screenshot2.png\n",
      "saved : screenshot3.png\n",
      "saved : screenshot4.png\n",
      "saved : screenshot5.png\n",
      "Wall time: 31.7 s\n"
     ]
    }
   ],
   "source": [
    "%%time\n",
    "isDir, dirName = makeDir(youtube_url)\n",
    "start_term = 5 # 5초 후 부터 이미지 생성\n",
    "image_count = 5 # 5개의 이미지 생성\n",
    "save_term = 0.3 # 저장 텀\n",
    "saveImages(youtube_url, start_term, image_count, save_term, dirName)\n",
    "# make thumnail\n",
    "thumnails = makeTunmnail(image_count, dirName)"
   ]
  },
  {
   "cell_type": "code",
   "execution_count": 41,
   "metadata": {
    "scrolled": false
   },
   "outputs": [
    {
     "name": "stdout",
     "output_type": "stream",
     "text": [
      "Wall time: 36.5 s\n"
     ]
    }
   ],
   "source": [
    "%%time\n",
    "result = vision(thumnails)"
   ]
  },
  {
   "cell_type": "code",
   "execution_count": 42,
   "metadata": {},
   "outputs": [],
   "source": [
    "expression_list = ['Joy', 'Sorrow', 'Anger', 'Surprise', 'Exposed', 'Blurred', 'Headwear']\n",
    "person_count = 0\n",
    "scene_count = 0\n",
    "\n",
    "expressions = {}\n",
    "for expression in expression_list:\n",
    "    expressions[expression] = 0\n",
    "\n",
    "for data in result:\n",
    "    scene_count += 1\n",
    "    person_count += len(data)\n",
    "    for face in data:\n",
    "        confidence = float(face[\"confidence\"].replace(\"%\", \"\")) * 0.01\n",
    "        confidence = round(confidence, 2)\n",
    "        for expression in expression_list:\n",
    "            number = int(face['expressions'][expression]) * confidence / person_count\n",
    "            expressions[expression] = round(expressions[expression] + number, 2)"
   ]
  },
  {
   "cell_type": "code",
   "execution_count": 43,
   "metadata": {},
   "outputs": [
    {
     "name": "stdout",
     "output_type": "stream",
     "text": [
      "{'scene_count': 5, 'person_count': 15, 'expressions': {'Joy': 0.23, 'Sorrow': 0.0, 'Anger': 0.0, 'Surprise': 0.0, 'Exposed': 0.0, 'Blurred': 0.0, 'Headwear': 0.2}}\n"
     ]
    }
   ],
   "source": [
    "summary_data = {\n",
    "    \"scene_count\":scene_count,\n",
    "    \"person_count\":person_count,\n",
    "    \"expressions\":expressions,\n",
    "}\n",
    "\n",
    "# save\n",
    "path = 'data/images/' + dirName  + '/result.plk'\n",
    "pickle.dump(summary_data, open(path, 'wb'))\n",
    "\n",
    "# read\n",
    "with open(path, 'rb') as file:\n",
    "    summary_data = pickle.load(file)\n",
    "    print(summary_data)"
   ]
  },
  {
   "cell_type": "code",
   "execution_count": null,
   "metadata": {},
   "outputs": [],
   "source": []
  }
 ],
 "metadata": {
  "kernelspec": {
   "display_name": "Python 3",
   "language": "python",
   "name": "python3"
  },
  "language_info": {
   "codemirror_mode": {
    "name": "ipython",
    "version": 3
   },
   "file_extension": ".py",
   "mimetype": "text/x-python",
   "name": "python",
   "nbconvert_exporter": "python",
   "pygments_lexer": "ipython3",
   "version": "3.6.4"
  }
 },
 "nbformat": 4,
 "nbformat_minor": 2
}
